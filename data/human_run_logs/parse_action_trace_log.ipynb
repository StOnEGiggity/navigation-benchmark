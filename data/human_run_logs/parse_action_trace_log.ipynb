{
 "cells": [
  {
   "cell_type": "code",
   "execution_count": 1,
   "metadata": {},
   "outputs": [],
   "source": [
    "import csv\n",
    "import numpy as np\n",
    "import matplotlib.pyplot as plt\n",
    "import os\n",
    "import pandas as pd\n",
    "       \n",
    "def calcSPL(coefs,successes ):\n",
    "    assert len(coefs) == len(successes)\n",
    "    return np.mean(coefs *successes)"
   ]
  },
  {
   "cell_type": "code",
   "execution_count": 2,
   "metadata": {},
   "outputs": [
    {
     "data": {
      "text/html": [
       "<div>\n",
       "<style scoped>\n",
       "    .dataframe tbody tr th:only-of-type {\n",
       "        vertical-align: middle;\n",
       "    }\n",
       "\n",
       "    .dataframe tbody tr th {\n",
       "        vertical-align: top;\n",
       "    }\n",
       "\n",
       "    .dataframe thead th {\n",
       "        text-align: right;\n",
       "    }\n",
       "</style>\n",
       "<table border=\"1\" class=\"dataframe\">\n",
       "  <thead>\n",
       "    <tr style=\"text-align: right;\">\n",
       "      <th></th>\n",
       "      <th>task</th>\n",
       "      <th>episode</th>\n",
       "      <th>sceneId</th>\n",
       "      <th>tick</th>\n",
       "      <th>px</th>\n",
       "      <th>py</th>\n",
       "      <th>pz</th>\n",
       "      <th>rotation</th>\n",
       "      <th>actions</th>\n",
       "      <th>actionArgs</th>\n",
       "      <th>forces</th>\n",
       "    </tr>\n",
       "  </thead>\n",
       "  <tbody>\n",
       "    <tr>\n",
       "      <th>9294</th>\n",
       "      <td>-</td>\n",
       "      <td>-</td>\n",
       "      <td>-</td>\n",
       "      <td>19</td>\n",
       "      <td>0.0822</td>\n",
       "      <td>0.551</td>\n",
       "      <td>2.2288</td>\n",
       "      <td>3.3966</td>\n",
       "      <td>turnRight</td>\n",
       "      <td>NaN</td>\n",
       "      <td>NaN</td>\n",
       "    </tr>\n",
       "    <tr>\n",
       "      <th>9295</th>\n",
       "      <td>-</td>\n",
       "      <td>-</td>\n",
       "      <td>-</td>\n",
       "      <td>20</td>\n",
       "      <td>0.0822</td>\n",
       "      <td>0.551</td>\n",
       "      <td>2.2288</td>\n",
       "      <td>3.2710</td>\n",
       "      <td>turnRight</td>\n",
       "      <td>NaN</td>\n",
       "      <td>NaN</td>\n",
       "    </tr>\n",
       "    <tr>\n",
       "      <th>9296</th>\n",
       "      <td>-</td>\n",
       "      <td>-</td>\n",
       "      <td>-</td>\n",
       "      <td>21</td>\n",
       "      <td>0.0822</td>\n",
       "      <td>0.551</td>\n",
       "      <td>2.2288</td>\n",
       "      <td>3.1453</td>\n",
       "      <td>turnRight</td>\n",
       "      <td>NaN</td>\n",
       "      <td>NaN</td>\n",
       "    </tr>\n",
       "    <tr>\n",
       "      <th>9297</th>\n",
       "      <td>-</td>\n",
       "      <td>-</td>\n",
       "      <td>-</td>\n",
       "      <td>22</td>\n",
       "      <td>0.0822</td>\n",
       "      <td>0.551</td>\n",
       "      <td>2.2288</td>\n",
       "      <td>3.0196</td>\n",
       "      <td>turnRight</td>\n",
       "      <td>NaN</td>\n",
       "      <td>NaN</td>\n",
       "    </tr>\n",
       "    <tr>\n",
       "      <th>9298</th>\n",
       "      <td>-</td>\n",
       "      <td>-</td>\n",
       "      <td>-</td>\n",
       "      <td>23</td>\n",
       "      <td>0.0822</td>\n",
       "      <td>0.551</td>\n",
       "      <td>2.2288</td>\n",
       "      <td>2.8940</td>\n",
       "      <td>reset</td>\n",
       "      <td>NaN</td>\n",
       "      <td>NaN</td>\n",
       "    </tr>\n",
       "  </tbody>\n",
       "</table>\n",
       "</div>"
      ],
      "text/plain": [
       "     task episode sceneId  tick      px     py      pz  rotation    actions  \\\n",
       "9294    -       -       -    19  0.0822  0.551  2.2288    3.3966  turnRight   \n",
       "9295    -       -       -    20  0.0822  0.551  2.2288    3.2710  turnRight   \n",
       "9296    -       -       -    21  0.0822  0.551  2.2288    3.1453  turnRight   \n",
       "9297    -       -       -    22  0.0822  0.551  2.2288    3.0196  turnRight   \n",
       "9298    -       -       -    23  0.0822  0.551  2.2288    2.8940      reset   \n",
       "\n",
       "      actionArgs  forces  \n",
       "9294         NaN     NaN  \n",
       "9295         NaN     NaN  \n",
       "9296         NaN     NaN  \n",
       "9297         NaN     NaN  \n",
       "9298         NaN     NaN  "
      ]
     },
     "execution_count": 2,
     "metadata": {},
     "output_type": "execute_result"
    }
   ],
   "source": [
    "df = pd.read_csv('/home/dmishkin/dev/nav-agents-new/nav-agents/HUMAN_RUN/mp3d_maction_trace.csv')\n",
    "df.tail(5)"
   ]
  },
  {
   "cell_type": "code",
   "execution_count": 3,
   "metadata": {},
   "outputs": [
    {
     "name": "stderr",
     "output_type": "stream",
     "text": [
      "/usr/local/lib/python3.5/dist-packages/ipykernel_launcher.py:1: FutureWarning: Method .as_matrix will be removed in a future version. Use .values instead.\n",
      "  \"\"\"Entry point for launching an IPython kernel.\n",
      "/usr/local/lib/python3.5/dist-packages/ipykernel_launcher.py:2: FutureWarning: Method .as_matrix will be removed in a future version. Use .values instead.\n",
      "  \n",
      "/usr/local/lib/python3.5/dist-packages/ipykernel_launcher.py:3: FutureWarning: Method .as_matrix will be removed in a future version. Use .values instead.\n",
      "  This is separate from the ipykernel package so we can avoid doing imports until\n"
     ]
    }
   ],
   "source": [
    "pxs = df['px'].as_matrix().astype(np.float32)\n",
    "pzs = df['pz'].as_matrix().astype(np.float32)\n",
    "times = df['tick'].as_matrix().astype(np.float32)\n",
    "actions = df['actions'].tolist()\n",
    "path_lengths = []\n",
    "successes = []\n",
    "\n"
   ]
  },
  {
   "cell_type": "code",
   "execution_count": 4,
   "metadata": {},
   "outputs": [
    {
     "name": "stdout",
     "output_type": "stream",
     "text": [
      "50\n"
     ]
    }
   ],
   "source": [
    "split_idxs =  df['actions'] == \"goal\"\n",
    "changeids = df.index[split_idxs].tolist()\n",
    "#print (len(changeids))\n",
    "#print (split_idxs)\n",
    "i0 = 1\n",
    "path_lengths = []\n",
    "successes = []\n",
    "stepss = []\n",
    "count = 0\n",
    "for i in changeids[1:]:\n",
    "    steps = i - i0\n",
    "    successes.append(steps < 499)\n",
    "    x = pxs[i0:i]\n",
    "    z = pzs[i0:i]\n",
    "    #print (steps)\n",
    "    #print (x)\n",
    "    #print (z)\n",
    "    #print (df['px'][i0:i])\n",
    "    #print (df['actions'][i0:i])\n",
    "    #\n",
    "    #print (\"************\")\n",
    "    path = np.sqrt((z[1:] - z[:-1])**2 + (x[1:] - x[:-1])**2).sum()\n",
    "    #print (path)\n",
    "    path_lengths.append(path)\n",
    "    stepss.append(steps)\n",
    "    i0=i+1\n",
    "    count+=1\n",
    "    #if count > 3:\n",
    "    #    break\n",
    "print (len(successes))"
   ]
  },
  {
   "cell_type": "code",
   "execution_count": 5,
   "metadata": {},
   "outputs": [],
   "source": [
    "tt =  pd.read_csv('/home/dmishkin/dev/nav-agents-new/nav-agents/CVPR_LOGS_PLAIN/pointgoal_mp3d_m_goals_dist_dir_DFP_Plain_DFP_InformedAgent_42018-11-14--15_10_55/short_stats.csv')"
   ]
  },
  {
   "cell_type": "code",
   "execution_count": 6,
   "metadata": {},
   "outputs": [
    {
     "name": "stdout",
     "output_type": "stream",
     "text": [
      "100\n",
      "[ 0.76568544  4.655635    4.6526914  15.849748   19.025484    1.2\n",
      "  3.8384776  11.44264    27.071068    0.9485281   7.352691   14.949747\n",
      "  0.24142136 11.259798    7.8012195   6.5627418   3.4899495  12.284062\n",
      " 25.412489    1.7970563   7.804163    6.7012196   6.952691    7.518377\n",
      " 19.104162    9.955635    8.042641    7.359798    6.404163   16.215433\n",
      "  7.5012193  10.601219    1.7414213   7.138478   21.62254     4.797056\n",
      " 13.176955    1.6         5.407107   13.7426405   4.6071067   4.472792\n",
      "  6.4183764  12.681118    2.4071069   4.631371    6.0426407   5.579899\n",
      " 11.235534    2.1071067 ]\n",
      "[ 0.2         6.051164    2.5860155   7.5411816   2.77812     0.79843754\n",
      "  4.046178    6.4892926   3.5672677   0.4         8.643729   15.299457\n",
      "  0.          3.3418827   4.236092    2.2921062   3.0468357   4.083762\n",
      "  3.3332908   1.5875      5.00783     2.045761    8.438436    2.21775\n",
      "  5.288842    7.115942    8.333651    2.4962947   2.2338362   4.2023463\n",
      "  9.335055    3.415936    3.1164062   4.370718    4.3943706   5.290169\n",
      "  2.735767    2.2896557   4.869847   20.006464    7.389227   10.622734\n",
      "  2.19601    18.125755    1.8093896   3.853198    2.4429317   5.2736793\n",
      "  2.8116424   1.4750001 ]\n",
      "0\n",
      "5\n",
      "10\n",
      "15\n",
      "20\n",
      "25\n",
      "30\n",
      "35\n",
      "40\n",
      "45\n",
      "1\n",
      "6\n",
      "11\n",
      "16\n",
      "21\n",
      "26\n",
      "31\n",
      "36\n",
      "41\n",
      "46\n",
      "2\n",
      "7\n",
      "12\n",
      "17\n",
      "22\n",
      "27\n",
      "32\n",
      "37\n",
      "42\n",
      "47\n",
      "3\n",
      "8\n",
      "13\n",
      "18\n",
      "23\n",
      "28\n",
      "33\n",
      "38\n",
      "43\n",
      "48\n",
      "4\n",
      "9\n",
      "14\n",
      "19\n",
      "24\n",
      "29\n",
      "34\n",
      "39\n",
      "44\n",
      "49\n",
      "[0.39996624, 5.9189234, 15.977155, 12.290268, 4.0726943, 2.0607853, 11.775894, 11.285957, 8.145343, 10.927003, 3.8804953, 16.427227, 2.4001255, 6.1484756, 17.34964, 26.678608, 8.3587055, 35.79522, 3.029984, 3.457972, 10.5078945, 5.278115, 52.029747, 7.1871367, 16.710938, 8.477201, 63.761055, 6.646892, 7.9868703, 11.736518, 15.610505, 6.799643, 17.523514, 13.778861, 20.685122, 10.756981, 4.874607, 12.784451, 21.081223, 33.40106, 26.622524, 19.631336, 4.8999586, 34.653557, 18.94811, 1.7750019, 2.6687202, 24.652277, 5.4065638, 30.813797]\n",
      "[0.76568544, 1.2, 7.352691, 6.5627418, 7.804163, 9.955635, 7.5012193, 4.797056, 4.6071067, 4.631371, 4.655635, 3.8384776, 14.949747, 3.4899495, 6.7012196, 8.042641, 10.601219, 13.176955, 4.472792, 6.0426407, 4.6526914, 11.44264, 0.24142136, 12.284062, 6.952691, 7.359798, 1.7414213, 1.6, 6.4183764, 5.579899, 15.849748, 27.071068, 11.259798, 25.412489, 7.518377, 6.404163, 7.138478, 5.407107, 12.681118, 11.235534, 19.025484, 0.9485281, 7.8012195, 1.7970563, 19.104162, 16.215433, 21.62254, 13.7426405, 2.4071069, 2.1071067]\n"
     ]
    },
    {
     "name": "stderr",
     "output_type": "stream",
     "text": [
      "/usr/local/lib/python3.5/dist-packages/ipykernel_launcher.py:1: FutureWarning: Method .as_matrix will be removed in a future version. Use .values instead.\n",
      "  \"\"\"Entry point for launching an IPython kernel.\n",
      "/usr/local/lib/python3.5/dist-packages/ipykernel_launcher.py:2: FutureWarning: Method .as_matrix will be removed in a future version. Use .values instead.\n",
      "  \n"
     ]
    }
   ],
   "source": [
    "SHORTEST = tt['shortest_path_length'].as_matrix().astype(np.float32)\n",
    "PL = tt['path_len'].as_matrix().astype(np.float32)\n",
    "print (len(SHORTEST))\n",
    "print (SHORTEST[:50])\n",
    "print (PL[:50])\n",
    "SHORTEST2 = []\n",
    "for i in range(5):\n",
    "    for j in range(10):\n",
    "        idx = j*5 + i\n",
    "        SHORTEST2.append(SHORTEST[idx])\n",
    "        print (idx)\n",
    "print (path_lengths)\n",
    "print (SHORTEST2[:50])"
   ]
  },
  {
   "cell_type": "code",
   "execution_count": 7,
   "metadata": {},
   "outputs": [
    {
     "name": "stdout",
     "output_type": "stream",
     "text": [
      "0.36896\n"
     ]
    }
   ],
   "source": []
  },
  {
   "cell_type": "code",
   "execution_count": 11,
   "metadata": {},
   "outputs": [
    {
     "name": "stdout",
     "output_type": "stream",
     "text": [
      "[1.         0.20273958 0.46020028 0.53397876 1.         1.\n",
      " 0.6369979  0.42504644 0.5656124  0.42384642 1.         0.23366559\n",
      " 1.         0.5676122  0.38624546 0.30146402 1.         0.36812052\n",
      " 1.         1.         0.44278055 1.         0.00464006 1.\n",
      " 0.4160563  0.8681872  0.02731168 0.24071401 0.803616   0.47543052\n",
      " 1.         1.         0.6425537  1.         0.36346787 0.5953495\n",
      " 1.         0.422944   0.60153615 0.33638257 0.71463865 0.04831704\n",
      " 1.         0.05185777 1.         1.         1.         0.5574593\n",
      " 0.44521937 0.06838192]\n",
      "0.56879926 0.84\n"
     ]
    }
   ],
   "source": [
    "#SHORTEST2 = np.array(SHORTEST[:50])\n",
    "path_lengths = np.array(path_lengths)\n",
    "\n",
    "coefs = SHORTEST2 / np.maximum(SHORTEST2, path_lengths)\n",
    "print (coefs)\n",
    "SPL = calcSPL(coefs, np.array(successes))\n",
    "print (SPL, np.array(successes).astype(np.float32).mean())"
   ]
  }
 ],
 "metadata": {
  "kernelspec": {
   "display_name": "Python 3",
   "language": "python",
   "name": "python3"
  },
  "language_info": {
   "codemirror_mode": {
    "name": "ipython",
    "version": 3
   },
   "file_extension": ".py",
   "mimetype": "text/x-python",
   "name": "python",
   "nbconvert_exporter": "python",
   "pygments_lexer": "ipython3",
   "version": "3.5.2"
  }
 },
 "nbformat": 4,
 "nbformat_minor": 2
}
